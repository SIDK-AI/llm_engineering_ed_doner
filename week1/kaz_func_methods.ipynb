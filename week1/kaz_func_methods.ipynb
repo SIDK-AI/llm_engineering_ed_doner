{
 "cells": [
  {
   "cell_type": "code",
   "execution_count": null,
   "metadata": {},
   "outputs": [],
   "source": [
    "def add(num1, num2):\n",
    "    return num1 + num2\n",
    "def sub(num1, num2):\n",
    "    return num1 - num2\n",
    "def prod(num1, num2):\n",
    "    return num1*num2"
   ]
  }
 ],
 "metadata": {
  "kernelspec": {
   "display_name": "venv",
   "language": "python",
   "name": "python3"
  },
  "language_info": {
   "name": "python",
   "version": "3.11.11"
  }
 },
 "nbformat": 4,
 "nbformat_minor": 2
}
